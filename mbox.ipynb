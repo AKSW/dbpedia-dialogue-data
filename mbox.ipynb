{
 "cells": [
  {
   "cell_type": "code",
   "execution_count": 24,
   "metadata": {
    "collapsed": false
   },
   "outputs": [],
   "source": [
    "# encoding: utf-8\n",
    "\n",
    "# https://stackoverflow.com/questions/26567843/reading-the-mail-content-of-an-mbox-file-using-python-mailbox\n",
    "# https://www.debuggex.com/cheatsheet/regex/python\n",
    "\n",
    "import unicodecsv as csv\n",
    "import mailbox\n",
    "import re\n",
    "import sys\n",
    "import talon\n",
    "from talon import quotations\n",
    "from BeautifulSoup import BeautifulSoup\n",
    "from email.header import decode_header\n",
    "\n",
    "talon.init()\n",
    "stdout = sys.stdout\n",
    "reload(sys)\n",
    "\n",
    "sys.setdefaultencoding(\"ISO-8859-1\")\n",
    "# sys.setdefaultencoding(\"cp1252\")\n",
    "sys.stdout = stdout"
   ]
  },
  {
   "cell_type": "code",
   "execution_count": 27,
   "metadata": {
    "collapsed": false
   },
   "outputs": [],
   "source": [
    "def clean_content(content):\n",
    "    # Basic Processing\n",
    "    content = u'' + content\n",
    "#     content = quotations.extract_from_plain(content) # Remove Signature Sections\n",
    "\n",
    "    # Remove all lines below a section of the thread that starts with --. This is a naive approach but captures \n",
    "    # most cases we are interested in\n",
    "    sign_index = content.find('--')\n",
    "    if sign_index != -1:\n",
    "        content = content[:sign_index]\n",
    "    \n",
    "    content = re.sub(r'[\\w\\.-]+@[\\w\\.-]+', ' ', content, re.MULTILINE) # Remove E-Mail Addresses\n",
    "    content = BeautifulSoup(content).getText(separator=u' ') # Remove HTML        \n",
    "#     content = re.sub(r'https?:\\/\\/.*[\\r\\n\\\"<>()\\s\\/$]', ' ', content, re.MULTILINE) # Remove Links URIs Etc                \n",
    "\n",
    "    return (u'' + content.strip()).encode('utf-8')\n",
    "\n",
    "def get_message_body(message):\n",
    "    message_body = \"\"\n",
    "    if message.is_multipart():\n",
    "        for part in message.get_payload():\n",
    "            part = part.get_payload(decode=True)\n",
    "            if part:\n",
    "                message_body += part\n",
    "    else:\n",
    "        message_body = message.get_payload(decode=True)\n",
    "    return clean_content(message_body)\n",
    "\n",
    "\n",
    "def decode_subject(subject):\n",
    "    if \"=?\" in subject:\n",
    "        result = ''\n",
    "        for part in decode_header(subject):\n",
    "            result += part[0] + ' '\n",
    "        subject = u'' + result\n",
    "    \n",
    "    if subject == ' ' or subject == '':\n",
    "        return u'(no subject)'\n",
    "    return subject.strip()\n",
    "\n",
    "def print_full(string):\n",
    "    print([c for c in string])"
   ]
  },
  {
   "cell_type": "code",
   "execution_count": 28,
   "metadata": {
    "collapsed": false
   },
   "outputs": [],
   "source": [
    "mbox = mailbox.mbox('data/dbpedia-discussion-archive')\n",
    "csv_writer = csv.writer(open('data/dbpedia-discussion-archive-no-sig.csv', 'wb'))\n",
    "\n",
    "for message in mbox:    \n",
    "    processed_msg = get_message_body(message)\n",
    "    decode_subject(message['Subject'])\n",
    "    csv_writer.writerow([message['Date'], message['Message-ID'], message['From'], decode_subject(message['Subject']), processed_msg])\n",
    "    "
   ]
  },
  {
   "cell_type": "code",
   "execution_count": 143,
   "metadata": {
    "collapsed": false
   },
   "outputs": [
    {
     "name": "stdout",
     "output_type": "stream",
     "text": [
      "<!DOCTYPE html PUBLIC \"\"-//W3C//DTD XHTML 1.0 Transitional//EN\"\" \"\" <html xmlns=\"\" <head>\n",
      " 12814 <meta http-equiv=\"\"Content-Type\"\" content=\"\"text/html; charset=UTF-8\"\" />\n",
      " 12815 \n",
      " 12816 </head>\n",
      " 12817 \n",
      " 12818 <body>\n",
      " 12819 <embed width=\"\"488\"\" height=\"\"366\"\" flashvars=\"\"&displayheight=366&file=\n",
      " 12820 <embed width=\"\"488\"\" height=\"\"274\"\" flashvars=\"\"&displayheight=274&file=\n",
      " 12821 <embed width=\"\"488\"\" height=\"\"274\"\" flashvars=\"\"&displayheight=274&file=\n",
      " 12822 \n",
      " 12823 \n",
      " 12824 \n",
      " 12825 </body>\n",
      " 12826 </html>\n"
     ]
    }
   ],
   "source": [
    "with open('data/untitled.txt', 'r') as myfile:\n",
    "    content = myfile.read()\n",
    "\n",
    "content = re.sub(r'<\\w+.*>.*<\\/\\w+>', ' ', content, re.MULTILINE) # Remove HTML\n",
    "print content"
   ]
  },
  {
   "cell_type": "code",
   "execution_count": null,
   "metadata": {
    "collapsed": true
   },
   "outputs": [],
   "source": []
  }
 ],
 "metadata": {
  "kernelspec": {
   "display_name": "Python 2",
   "language": "python",
   "name": "python2"
  },
  "language_info": {
   "codemirror_mode": {
    "name": "ipython",
    "version": 2
   },
   "file_extension": ".py",
   "mimetype": "text/x-python",
   "name": "python",
   "nbconvert_exporter": "python",
   "pygments_lexer": "ipython2",
   "version": "2.7.13"
  }
 },
 "nbformat": 4,
 "nbformat_minor": 2
}
