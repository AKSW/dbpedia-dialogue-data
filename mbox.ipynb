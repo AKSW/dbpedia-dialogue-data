{
 "cells": [
  {
   "cell_type": "code",
   "execution_count": null,
   "metadata": {
    "collapsed": true
   },
   "outputs": [],
   "source": [
    "# encoding: utf-8\n",
    "\n",
    "import csv\n",
    "import mailbox\n",
    "import re\n",
    "\n",
    "import sys\n",
    "reload(sys)\n",
    "sys.setdefaultencoding(\"ISO-8859-1\")\n",
    "\n",
    "def clean_content(content, subject=False):\n",
    "    if subject:\n",
    "        content = re.sub(r'\\[.*\\]\\s?', '', content) # Remove reply and name of mailing list from subject\n",
    "        content = re.sub(r'Re\\s?:\\s?', '', content, flags=re.I)\n",
    "        content = re.sub(r'Fwd\\s?:\\s?', '', content, flags=re.I)\n",
    "    else:\n",
    "        sign_index = content.find('--')\n",
    "        if sign_index != -1:\n",
    "            content = content[:sign_index]\n",
    "\n",
    "    content = re.sub(r'<.*?>', '', content, flags=re.MULTILINE) # Remove HTML Tags\n",
    "    content = content.replace('&nbsp;', ' ').replace('&quot;', \"'\").replace('&amp;', '&') # Removing Whitespace characters need to be extended to others as required\n",
    "\n",
    "    # content = re.sub(r'http\\S+', '', content, flags=re.MULTILINE) # Removing HTTP Links. Need to decide if this is needed\n",
    "    content = re.sub(r'^>.*(\\n|$)', ' ', content, flags=re.MULTILINE) # Remove Reply Sections\n",
    "\n",
    "    #content = content.replace('&gt;', '').replace('&lt;', '').replace('&eq;', '')  # Comparison Characters\n",
    "    content = content.strip().replace('\\n', ' ').replace('\\r', ' ').replace('\\t', ' ') # Removes newlines, tabs etc.\n",
    "    content = re.sub(r'\\s{2,}', ' ', content, flags=re.MULTILINE) # Remove extra whitespaces\n",
    "    # return content.encode('utf-8').strip()\n",
    "    return content\n",
    "\n",
    "def get_message_body(message):\n",
    "    message_body = \"\"\n",
    "    if message.is_multipart():\n",
    "        for part in message.get_payload():\n",
    "            message_body += get_message_body(part)\n",
    "    else:\n",
    "        message_body = message.get_payload(decode=True)\n",
    "    return clean_content(message_body)\n",
    "\n",
    "mbox = mailbox.mbox('data/dbpedia-discussion-archive')\n",
    "csv_writer = csv.writer(open('data/dbpedia-discussion-archive.csv', 'wb'))\n",
    "file_writer = open('data/dbpedia-discussion-archive-subjects.txt', 'w')\n",
    "\n",
    "subjects = set()\n",
    "\n",
    "for message in mbox:\n",
    "    subject = clean_content(message['Subject'], True)\n",
    "    csv_writer.writerow([message['Date'], message['Message-ID'], message['From'], subject, get_message_body(message)])\n",
    "    subjects.add(subject)\n",
    "\n",
    "for subject in subjects:\n",
    "    file_writer.write(\"%s\\n\" % subject)"
   ]
  }
 ],
 "metadata": {
  "kernelspec": {
   "display_name": "Python 2",
   "language": "python",
   "name": "python2"
  },
  "language_info": {
   "codemirror_mode": {
    "name": "ipython",
    "version": 2
   },
   "file_extension": ".py",
   "mimetype": "text/x-python",
   "name": "python",
   "nbconvert_exporter": "python",
   "pygments_lexer": "ipython2",
   "version": "2.7.13"
  }
 },
 "nbformat": 4,
 "nbformat_minor": 2
}
