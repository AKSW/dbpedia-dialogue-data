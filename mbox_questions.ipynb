{
 "cells": [
  {
   "cell_type": "code",
   "execution_count": 15,
   "metadata": {
    "collapsed": false
   },
   "outputs": [],
   "source": [
    "# encoding: utf-8\n",
    "\n",
    "import unicodecsv as csv\n",
    "import json\n",
    "import sys\n",
    "import io\n",
    "import re\n",
    "\n",
    "stdout = sys.stdout\n",
    "reload(sys)\n",
    "sys.setdefaultencoding(\"ISO-8859-1\")\n",
    "# sys.setdefaultencoding(\"cp1252\")\n",
    "sys.stdout = stdout"
   ]
  },
  {
   "cell_type": "code",
   "execution_count": 16,
   "metadata": {
    "collapsed": false
   },
   "outputs": [],
   "source": [
    "csv_reader = csv.reader(open('data/dbpedia-discussion-archive.csv', 'r'))\n",
    "file_writer = open('data/dbpedia-discussion-archive-questions.txt', 'w')\n",
    "# csv_writer = csv.writer(open('data/dbpedia-discussion-archive-questions.csv', 'wb'))\n",
    "\n",
    "question_topics = set()\n",
    "questions = {}\n",
    "messages = []\n",
    "questions_list = []\n",
    "ignored_subjects = set()\n",
    "\n",
    "def contains_question_word(word):\n",
    "    question_words = ['what', 'when', 'why', 'which', 'who', 'how', 'whose', 'whom']\n",
    "    return any(s in word.lower() for s in question_words)\n",
    "\n",
    "def contains_ignored_phrases(text):\n",
    "    return re.search(r'call for|cfp|ann\\:|important dates|Dbpedia-discussion Digest', text, re.I)\n",
    "\n",
    "def is_ignored_subject(subject, ignored_subjects, message):\n",
    "    if subject in ignored_subjects or subject == '' or subject == '(no subject)':\n",
    "        return True\n",
    "    # Removing call for, CFP and Announcements\n",
    "    elif contains_ignored_phrases(subject) or contains_ignored_phrases(message):\n",
    "        return True\n",
    "    return False\n",
    "\n",
    "def process_message(message):\n",
    "    # Moved to MBox\n",
    "#     message = re.sub(r'<[^>]*>', ' ', message, re.MULTILINE) # Remove Tags\n",
    "#     message = re.sub(r'http[\\S\\r\\n\\t]+', ' ', message, re.MULTILINE) # Remove Links or URI etc    \n",
    "#     message = re.sub(r'\\s{2,}', ' ', message, re.MULTILINE) # Remove extra whitespaces\n",
    "    return 'u' + message.strip()\n",
    "\n",
    "def is_question_topic(subject, message):\n",
    "    global question_topics, questions, ignored_subjects\n",
    "\n",
    "    if is_ignored_subject(subject, ignored_subjects, message):\n",
    "        ignored_subjects.add(subject)\n",
    "        return False\n",
    "    elif subject in question_topics or contains_question_word(subject) or contains_question_word(message):\n",
    "        if subject not in questions.keys():\n",
    "            questions[subject] = {\n",
    "                'thread': []\n",
    "            }\n",
    "        questions[subject]['thread'].append(process_message(message))\n",
    "        return True    \n",
    "    else:\n",
    "        ignored_subjects.add(subject)\n",
    "        return False"
   ]
  },
  {
   "cell_type": "code",
   "execution_count": 17,
   "metadata": {
    "collapsed": false
   },
   "outputs": [
    {
     "name": "stdout",
     "output_type": "stream",
     "text": [
      "4889\n",
      "1392\n"
     ]
    }
   ],
   "source": [
    "count = 0\n",
    "for line in csv_reader:\n",
    "    if is_question_topic(line[3], line[4]):\n",
    "        question_topics.add(line[3])\n",
    "        count += 1\n",
    "        messages.append(line[4])\n",
    "        \n",
    "print count\n",
    "print len(questions.keys())\n",
    "\n",
    "# for i in range(0, 100):\n",
    "#     print messages[i]"
   ]
  },
  {
   "cell_type": "code",
   "execution_count": 18,
   "metadata": {
    "collapsed": false
   },
   "outputs": [],
   "source": [
    "# Writing all subjects separately to a file\n",
    "for subject in questions.keys():\n",
    "    # Remove threads with single message and blank subject not doing this for now\n",
    "#     if len(questions[subject]['thread']) == 1:\n",
    "#         print subject\n",
    "#         del questions[subject]\n",
    "#         continue\n",
    "    file_writer.write(\"%s\\n\" % subject)\n",
    "#     csv_writer.writerow([subject, ' '.join(questions[subject]['thread'])])\n",
    "    questions_list.append({'subject': subject, 'thread': questions[subject]['thread'], 'thread_length': len(questions[subject]['thread'])})\n",
    "\n",
    "with open('data/dbpedia-discussion-archive-questions.json', 'w') as fp:\n",
    "    json.dump(questions_list, fp)"
   ]
  },
  {
   "cell_type": "code",
   "execution_count": 81,
   "metadata": {
    "collapsed": false
   },
   "outputs": [
    {
     "name": "stdout",
     "output_type": "stream",
     "text": [
      "True\n"
     ]
    }
   ],
   "source": [
    "if re.search(r'call for|cfp|ann\\:', 'kaljsdkajd CALL FOR :', re.IGNORECASE):\n",
    "    print True"
   ]
  }
 ],
 "metadata": {
  "kernelspec": {
   "display_name": "Python 2",
   "language": "python",
   "name": "python2"
  },
  "language_info": {
   "codemirror_mode": {
    "name": "ipython",
    "version": 2
   },
   "file_extension": ".py",
   "mimetype": "text/x-python",
   "name": "python",
   "nbconvert_exporter": "python",
   "pygments_lexer": "ipython2",
   "version": "2.7.13"
  }
 },
 "nbformat": 4,
 "nbformat_minor": 2
}
