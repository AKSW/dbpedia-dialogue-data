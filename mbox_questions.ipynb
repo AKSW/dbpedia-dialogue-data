{
 "cells": [
  {
   "cell_type": "code",
   "execution_count": 100,
   "metadata": {
    "collapsed": false
   },
   "outputs": [],
   "source": [
    "# encoding: utf-8\n",
    "\n",
    "import csv\n",
    "import json\n",
    "import sys\n",
    "import io\n",
    "import re\n",
    "\n",
    "stdout = sys.stdout\n",
    "reload(sys)\n",
    "sys.setdefaultencoding(\"ISO-8859-1\")\n",
    "sys.stdout = stdout"
   ]
  },
  {
   "cell_type": "code",
   "execution_count": 107,
   "metadata": {
    "collapsed": false
   },
   "outputs": [],
   "source": [
    "csv_reader = csv.reader(open('data/dbpedia-discussion-archive.csv', 'r'))\n",
    "file_writer = open('data/dbpedia-discussion-archive-questions.txt', 'w')\n",
    "\n",
    "def contains_question_word(word):\n",
    "    question_words = ['what', 'when', 'why', 'which', 'who', 'how', 'whose', 'whom']\n",
    "    return any(s in word.lower() for s in question_words)\n",
    "\n",
    "def is_ignored_subject(subject):\n",
    "    # Removing call for, CFP and Announcements\n",
    "    if re.search(r'call for|cfp|ann\\:', subject, re.IGNORECASE) or subject == '':\n",
    "        return True\n",
    "    return False\n",
    "\n",
    "def is_question_topic(subject, message):\n",
    "    global question_topics, questions\n",
    "\n",
    "    if is_ignored_subject(subject):\n",
    "        return False\n",
    "    elif subject in question_topics or contains_question_word(subject) or contains_question_word(message):\n",
    "        if subject not in questions.keys():\n",
    "            questions[subject] = {\n",
    "                \"thread\": []\n",
    "            }\n",
    "        questions[subject]['thread'].append(u'' + message)\n",
    "        return True    \n",
    "    else:\n",
    "        return False\n",
    "\n",
    "question_topics = set()\n",
    "questions = {}\n",
    "\n",
    "count = 0\n",
    "for line in csv_reader:\n",
    "    if is_question_topic(line[3], line[4]):\n",
    "        question_topics.add(line[3])\n",
    "        count += 1\n",
    "\n",
    "print count\n",
    "print len(questions.keys())"
   ]
  },
  {
   "cell_type": "code",
   "execution_count": 108,
   "metadata": {
    "collapsed": false
   },
   "outputs": [],
   "source": [
    "# Writing all subjects separately to a file\n",
    "for subject in questions.keys():\n",
    "    # Remove threads with single message and blank subject not doing this for now\n",
    "#     if len(questions[subject]['thread']) == 1:\n",
    "#         print subject\n",
    "#         del questions[subject]\n",
    "#         continue\n",
    "    file_writer.write(\"%s\\n\" % subject)\n",
    "    if subject.startswith('DBpedia query result is'):\n",
    "        print subject\n",
    "\n",
    "with open('data/dbpedia-discussion-archive-questions.json', 'w') as fp:\n",
    "    json.dump(questions, fp)"
   ]
  },
  {
   "cell_type": "code",
   "execution_count": 106,
   "metadata": {
    "collapsed": true
   },
   "outputs": [],
   "source": [
    "if re.search(r'cfp|ann:', 'ANN: DBpedia 2016-04-beta release', re.IGNORECASE):\n",
    "    print \"EXISTS\"\n",
    "else:\n",
    "    print \"DOES NOT EXIST\""
   ]
  },
  {
   "cell_type": "code",
   "execution_count": null,
   "metadata": {
    "collapsed": true
   },
   "outputs": [],
   "source": []
  }
 ],
 "metadata": {
  "kernelspec": {
   "display_name": "Python 2",
   "language": "python",
   "name": "python2"
  },
  "language_info": {
   "codemirror_mode": {
    "name": "ipython",
    "version": 2
   },
   "file_extension": ".py",
   "mimetype": "text/x-python",
   "name": "python",
   "nbconvert_exporter": "python",
   "pygments_lexer": "ipython2",
   "version": "2.7.13"
  }
 },
 "nbformat": 4,
 "nbformat_minor": 2
}
