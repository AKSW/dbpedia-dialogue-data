{
 "cells": [
  {
   "cell_type": "code",
   "execution_count": 10,
   "metadata": {
    "collapsed": false
   },
   "outputs": [],
   "source": [
    "# encoding: utf-8\n",
    "\n",
    "# https://stackoverflow.com/questions/26567843/reading-the-mail-content-of-an-mbox-file-using-python-mailbox\n",
    "# https://www.debuggex.com/cheatsheet/regex/python\n",
    "\n",
    "import unicodecsv as csv\n",
    "import re\n",
    "import sys\n",
    "\n",
    "stdout = sys.stdout\n",
    "reload(sys)\n",
    "sys.stdout = stdout\n",
    "\n",
    "# sys.setdefaultencoding(\"ISO-8859-1\")"
   ]
  },
  {
   "cell_type": "code",
   "execution_count": 11,
   "metadata": {
    "collapsed": false
   },
   "outputs": [],
   "source": [
    "def clean_content(content, subject=False):\n",
    "    content = u'' + content\n",
    "    if subject:\n",
    "        content = re.sub(r'\\[.*\\]\\s?', '', content) # Remove name of mailing list from subject. eg: [DBpedia-Discussion] gets removed\n",
    "        content = re.sub(r'(Re\\s?:\\s?|Fwd\\s?:\\s?)', '', content, flags=re.I) # Remove Reply or FWD eg: Re: [DBpedia-Discussion] Some Subject\n",
    "    \n",
    "    # Link Removals there are lot of cases so better to split them up for better understanding later on\n",
    "    content = re.sub(r'https?:\\/\\/.*[\\r\\n\\\"<>()\\s\\/$]', ' ', content, re.MULTILINE)\n",
    "    \n",
    "    # Text Substitutions\n",
    "    content = content.replace('&nbsp;', ' ').replace('&quot;', \"'\").replace('&amp;', '&').replace('&gt;', '>').replace('&lt;', '<').replace('&eq;', '=')# Removing Whitespace characters need to be extended to others as required\n",
    "    \n",
    "    # Content Stripping    \n",
    "    content = re.sub(r'((\\=\\*){2,}|(\\*\\s?){2,}|(\\#\\s?){2,}|(_\\s?){2,}|(\\.\\s?){2,}|(\\-\\s?){2,}|(\\=\\s?){3,})', '', content, flags=re.MULTILINE) # Remove Sequence of =*, *, #, _, =, -               \n",
    "    content = re.sub(r'^>.*(\\n|$)', ' ', content, flags=re.MULTILINE) # Remove Reply Sections\n",
    "\n",
    "    # Normalize Text\n",
    "    content = content.strip().replace('\\n', ' ').replace('\\r', ' ').replace('\\t', ' ')\n",
    "    content = re.sub(r'\\s{2,}', ' ', content, flags=re.MULTILINE) # Remove extra whitespaces\n",
    "    \n",
    "    return (u'' + content.strip()).encode('utf-8')\n",
    "\n",
    "def print_full(string):\n",
    "    print([c for c in string])"
   ]
  },
  {
   "cell_type": "code",
   "execution_count": 12,
   "metadata": {
    "collapsed": false
   },
   "outputs": [],
   "source": [
    "csv_reader = csv.reader(open('data/dbpedia-discussion-archive-no-sig.csv', 'r'))\n",
    "csv_writer = csv.writer(open('data/dbpedia-discussion-archive.csv', 'wb'))\n",
    "file_writer = open('data/dbpedia-discussion-archive-subjects.txt', 'w')\n",
    "\n",
    "subjects = set()\n",
    "\n",
    "for line in csv_reader:    \n",
    "    subject = clean_content(line[3], True)    \n",
    "    processed_msg = clean_content(line[4])\n",
    "        \n",
    "    csv_writer.writerow([line[0], line[1], line[2], subject, processed_msg])\n",
    "    subjects.add(subject)\n",
    "\n",
    "for subject in subjects:\n",
    "    file_writer.write(\"%s\\n\" % subject)"
   ]
  },
  {
   "cell_type": "code",
   "execution_count": 30,
   "metadata": {
    "collapsed": false
   },
   "outputs": [
    {
     "name": "stdout",
     "output_type": "stream",
     "text": [
      "DBpedia installation. Richard [1]   [2]   [3]   [4]   at the examples in th\n"
     ]
    }
   ],
   "source": [
    "content = \"DBpedia installation. Richard [1] http://sites.wiwiss.fu-berlin.de/suhl/bizer/ng4j/semwebclient/ [2] http://seaborne.blogspot.com/2007/07/basic-federated-sparql-query.html [3] http://darq.sourceforge.net/ [4] http://docs.openlinksw.com/virtuoso/rdfiridereferencing.html(look at the examples in th\"\n",
    "content = re.sub(r'https?:\\/\\/\\S+', ' ', content, re.MULTILINE)\n",
    "print content"
   ]
  }
 ],
 "metadata": {
  "kernelspec": {
   "display_name": "Python 2",
   "language": "python",
   "name": "python2"
  },
  "language_info": {
   "codemirror_mode": {
    "name": "ipython",
    "version": 2
   },
   "file_extension": ".py",
   "mimetype": "text/x-python",
   "name": "python",
   "nbconvert_exporter": "python",
   "pygments_lexer": "ipython2",
   "version": "2.7.13"
  }
 },
 "nbformat": 4,
 "nbformat_minor": 2
}
